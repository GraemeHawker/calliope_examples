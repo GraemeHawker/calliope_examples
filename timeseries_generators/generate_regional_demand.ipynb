{
 "cells": [
  {
   "cell_type": "code",
   "execution_count": 31,
   "id": "2e6fe81a",
   "metadata": {},
   "outputs": [],
   "source": [
    "import pandas as pd"
   ]
  },
  {
   "cell_type": "code",
   "execution_count": 32,
   "id": "1878552b",
   "metadata": {},
   "outputs": [],
   "source": [
    "import_path = '/Users/graeme/code/calliope_examples/model_3/timeseries_data/'"
   ]
  },
  {
   "cell_type": "code",
   "execution_count": 34,
   "id": "69a91fe5",
   "metadata": {},
   "outputs": [
    {
     "data": {
      "text/html": [
       "<div>\n",
       "<style scoped>\n",
       "    .dataframe tbody tr th:only-of-type {\n",
       "        vertical-align: middle;\n",
       "    }\n",
       "\n",
       "    .dataframe tbody tr th {\n",
       "        vertical-align: top;\n",
       "    }\n",
       "\n",
       "    .dataframe thead th {\n",
       "        text-align: right;\n",
       "    }\n",
       "</style>\n",
       "<table border=\"1\" class=\"dataframe\">\n",
       "  <thead>\n",
       "    <tr style=\"text-align: right;\">\n",
       "      <th></th>\n",
       "      <th>S5</th>\n",
       "      <th>S6</th>\n",
       "      <th>T1</th>\n",
       "      <th>T2</th>\n",
       "      <th>T3</th>\n",
       "      <th>T4</th>\n",
       "      <th>T5</th>\n",
       "    </tr>\n",
       "  </thead>\n",
       "  <tbody>\n",
       "    <tr>\n",
       "      <th>2023-01-01 00:00:00</th>\n",
       "      <td>-311.265</td>\n",
       "      <td>-648.524</td>\n",
       "      <td>0.000</td>\n",
       "      <td>-118.129</td>\n",
       "      <td>0.0</td>\n",
       "      <td>-96.004</td>\n",
       "      <td>-8.897</td>\n",
       "    </tr>\n",
       "    <tr>\n",
       "      <th>2023-01-01 01:00:00</th>\n",
       "      <td>-303.023</td>\n",
       "      <td>-675.899</td>\n",
       "      <td>0.000</td>\n",
       "      <td>-112.312</td>\n",
       "      <td>0.0</td>\n",
       "      <td>-76.042</td>\n",
       "      <td>-1.144</td>\n",
       "    </tr>\n",
       "    <tr>\n",
       "      <th>2023-01-01 02:00:00</th>\n",
       "      <td>-294.585</td>\n",
       "      <td>-677.090</td>\n",
       "      <td>0.000</td>\n",
       "      <td>-102.894</td>\n",
       "      <td>0.0</td>\n",
       "      <td>-86.851</td>\n",
       "      <td>-2.194</td>\n",
       "    </tr>\n",
       "    <tr>\n",
       "      <th>2023-01-01 03:00:00</th>\n",
       "      <td>-312.297</td>\n",
       "      <td>-701.772</td>\n",
       "      <td>-21.009</td>\n",
       "      <td>-106.584</td>\n",
       "      <td>0.0</td>\n",
       "      <td>-129.758</td>\n",
       "      <td>-6.835</td>\n",
       "    </tr>\n",
       "    <tr>\n",
       "      <th>2023-01-01 04:00:00</th>\n",
       "      <td>-330.375</td>\n",
       "      <td>-742.452</td>\n",
       "      <td>-21.922</td>\n",
       "      <td>-106.463</td>\n",
       "      <td>0.0</td>\n",
       "      <td>-114.180</td>\n",
       "      <td>0.000</td>\n",
       "    </tr>\n",
       "    <tr>\n",
       "      <th>...</th>\n",
       "      <td>...</td>\n",
       "      <td>...</td>\n",
       "      <td>...</td>\n",
       "      <td>...</td>\n",
       "      <td>...</td>\n",
       "      <td>...</td>\n",
       "      <td>...</td>\n",
       "    </tr>\n",
       "    <tr>\n",
       "      <th>2023-12-31 19:00:00</th>\n",
       "      <td>-585.721</td>\n",
       "      <td>-1194.508</td>\n",
       "      <td>-53.544</td>\n",
       "      <td>-233.357</td>\n",
       "      <td>0.0</td>\n",
       "      <td>-133.616</td>\n",
       "      <td>-27.702</td>\n",
       "    </tr>\n",
       "    <tr>\n",
       "      <th>2023-12-31 20:00:00</th>\n",
       "      <td>-544.543</td>\n",
       "      <td>-1093.291</td>\n",
       "      <td>-30.681</td>\n",
       "      <td>-217.617</td>\n",
       "      <td>0.0</td>\n",
       "      <td>-109.128</td>\n",
       "      <td>-27.050</td>\n",
       "    </tr>\n",
       "    <tr>\n",
       "      <th>2023-12-31 21:00:00</th>\n",
       "      <td>-504.562</td>\n",
       "      <td>-993.103</td>\n",
       "      <td>-8.136</td>\n",
       "      <td>-196.065</td>\n",
       "      <td>0.0</td>\n",
       "      <td>-130.461</td>\n",
       "      <td>-18.803</td>\n",
       "    </tr>\n",
       "    <tr>\n",
       "      <th>2023-12-31 22:00:00</th>\n",
       "      <td>-475.095</td>\n",
       "      <td>-903.547</td>\n",
       "      <td>0.000</td>\n",
       "      <td>-184.659</td>\n",
       "      <td>0.0</td>\n",
       "      <td>-140.995</td>\n",
       "      <td>-13.055</td>\n",
       "    </tr>\n",
       "    <tr>\n",
       "      <th>2023-12-31 23:00:00</th>\n",
       "      <td>-457.494</td>\n",
       "      <td>-854.410</td>\n",
       "      <td>0.000</td>\n",
       "      <td>-173.502</td>\n",
       "      <td>0.0</td>\n",
       "      <td>-130.040</td>\n",
       "      <td>-4.048</td>\n",
       "    </tr>\n",
       "  </tbody>\n",
       "</table>\n",
       "<p>8760 rows × 7 columns</p>\n",
       "</div>"
      ],
      "text/plain": [
       "                          S5        S6      T1       T2   T3       T4      T5\n",
       "2023-01-01 00:00:00 -311.265  -648.524   0.000 -118.129  0.0  -96.004  -8.897\n",
       "2023-01-01 01:00:00 -303.023  -675.899   0.000 -112.312  0.0  -76.042  -1.144\n",
       "2023-01-01 02:00:00 -294.585  -677.090   0.000 -102.894  0.0  -86.851  -2.194\n",
       "2023-01-01 03:00:00 -312.297  -701.772 -21.009 -106.584  0.0 -129.758  -6.835\n",
       "2023-01-01 04:00:00 -330.375  -742.452 -21.922 -106.463  0.0 -114.180   0.000\n",
       "...                      ...       ...     ...      ...  ...      ...     ...\n",
       "2023-12-31 19:00:00 -585.721 -1194.508 -53.544 -233.357  0.0 -133.616 -27.702\n",
       "2023-12-31 20:00:00 -544.543 -1093.291 -30.681 -217.617  0.0 -109.128 -27.050\n",
       "2023-12-31 21:00:00 -504.562  -993.103  -8.136 -196.065  0.0 -130.461 -18.803\n",
       "2023-12-31 22:00:00 -475.095  -903.547   0.000 -184.659  0.0 -140.995 -13.055\n",
       "2023-12-31 23:00:00 -457.494  -854.410   0.000 -173.502  0.0 -130.040  -4.048\n",
       "\n",
       "[8760 rows x 7 columns]"
      ]
     },
     "execution_count": 34,
     "metadata": {},
     "output_type": "execute_result"
    }
   ],
   "source": [
    "raw_data = pd.read_csv(import_path+'regional_demand_2023.csv', index_col=0, parse_dates=True)\n",
    "raw_data"
   ]
  },
  {
   "cell_type": "code",
   "execution_count": 35,
   "id": "9c03dc7a",
   "metadata": {},
   "outputs": [
    {
     "data": {
      "text/plain": [
       "2023-01-01 00:00:00   -0.360832\n",
       "2023-01-01 01:00:00   -0.356439\n",
       "2023-01-01 02:00:00   -0.354973\n",
       "2023-01-01 03:00:00   -0.389946\n",
       "2023-01-01 04:00:00   -0.401275\n",
       "                         ...   \n",
       "2023-12-31 19:00:00   -0.679812\n",
       "2023-12-31 20:00:00   -0.616928\n",
       "2023-12-31 21:00:00   -0.564707\n",
       "2023-12-31 22:00:00   -0.523896\n",
       "2023-12-31 23:00:00   -0.494044\n",
       "Length: 8760, dtype: float64"
      ]
     },
     "execution_count": 35,
     "metadata": {},
     "output_type": "execute_result"
    }
   ],
   "source": [
    "demand_cf = raw_data.sum(axis=1)/raw_data.sum(axis=1).min()\n",
    "demand_cf*-1."
   ]
  },
  {
   "cell_type": "code",
   "execution_count": 36,
   "id": "1e228c2d",
   "metadata": {},
   "outputs": [
    {
     "data": {
      "text/html": [
       "<div>\n",
       "<style scoped>\n",
       "    .dataframe tbody tr th:only-of-type {\n",
       "        vertical-align: middle;\n",
       "    }\n",
       "\n",
       "    .dataframe tbody tr th {\n",
       "        vertical-align: top;\n",
       "    }\n",
       "\n",
       "    .dataframe thead th {\n",
       "        text-align: right;\n",
       "    }\n",
       "</style>\n",
       "<table border=\"1\" class=\"dataframe\">\n",
       "  <thead>\n",
       "    <tr style=\"text-align: right;\">\n",
       "      <th></th>\n",
       "      <th>region1</th>\n",
       "      <th>region2</th>\n",
       "    </tr>\n",
       "  </thead>\n",
       "  <tbody>\n",
       "    <tr>\n",
       "      <th>2023-01-01 00:00:00</th>\n",
       "      <td>-0.360832</td>\n",
       "      <td>-0.360832</td>\n",
       "    </tr>\n",
       "    <tr>\n",
       "      <th>2023-01-01 01:00:00</th>\n",
       "      <td>-0.356439</td>\n",
       "      <td>-0.356439</td>\n",
       "    </tr>\n",
       "    <tr>\n",
       "      <th>2023-01-01 02:00:00</th>\n",
       "      <td>-0.354973</td>\n",
       "      <td>-0.354973</td>\n",
       "    </tr>\n",
       "    <tr>\n",
       "      <th>2023-01-01 03:00:00</th>\n",
       "      <td>-0.389946</td>\n",
       "      <td>-0.389946</td>\n",
       "    </tr>\n",
       "    <tr>\n",
       "      <th>2023-01-01 04:00:00</th>\n",
       "      <td>-0.401275</td>\n",
       "      <td>-0.401275</td>\n",
       "    </tr>\n",
       "    <tr>\n",
       "      <th>...</th>\n",
       "      <td>...</td>\n",
       "      <td>...</td>\n",
       "    </tr>\n",
       "    <tr>\n",
       "      <th>2023-12-31 19:00:00</th>\n",
       "      <td>-0.679812</td>\n",
       "      <td>-0.679812</td>\n",
       "    </tr>\n",
       "    <tr>\n",
       "      <th>2023-12-31 20:00:00</th>\n",
       "      <td>-0.616928</td>\n",
       "      <td>-0.616928</td>\n",
       "    </tr>\n",
       "    <tr>\n",
       "      <th>2023-12-31 21:00:00</th>\n",
       "      <td>-0.564707</td>\n",
       "      <td>-0.564707</td>\n",
       "    </tr>\n",
       "    <tr>\n",
       "      <th>2023-12-31 22:00:00</th>\n",
       "      <td>-0.523896</td>\n",
       "      <td>-0.523896</td>\n",
       "    </tr>\n",
       "    <tr>\n",
       "      <th>2023-12-31 23:00:00</th>\n",
       "      <td>-0.494044</td>\n",
       "      <td>-0.494044</td>\n",
       "    </tr>\n",
       "  </tbody>\n",
       "</table>\n",
       "<p>8760 rows × 2 columns</p>\n",
       "</div>"
      ],
      "text/plain": [
       "                      region1   region2\n",
       "2023-01-01 00:00:00 -0.360832 -0.360832\n",
       "2023-01-01 01:00:00 -0.356439 -0.356439\n",
       "2023-01-01 02:00:00 -0.354973 -0.354973\n",
       "2023-01-01 03:00:00 -0.389946 -0.389946\n",
       "2023-01-01 04:00:00 -0.401275 -0.401275\n",
       "...                       ...       ...\n",
       "2023-12-31 19:00:00 -0.679812 -0.679812\n",
       "2023-12-31 20:00:00 -0.616928 -0.616928\n",
       "2023-12-31 21:00:00 -0.564707 -0.564707\n",
       "2023-12-31 22:00:00 -0.523896 -0.523896\n",
       "2023-12-31 23:00:00 -0.494044 -0.494044\n",
       "\n",
       "[8760 rows x 2 columns]"
      ]
     },
     "execution_count": 36,
     "metadata": {},
     "output_type": "execute_result"
    }
   ],
   "source": [
    "demand_cf_regional = (demand_cf*-1.).to_frame().rename(columns={0:'region1'})\n",
    "demand_cf_regional['region2'] = demand_cf_regional['region1']\n",
    "demand_cf_regional"
   ]
  },
  {
   "cell_type": "code",
   "execution_count": 37,
   "id": "56a6d3b7",
   "metadata": {},
   "outputs": [],
   "source": [
    "demand_cf_regional.to_csv(import_path+'regional_demand.csv', index_label='', date_format='%Y-%m-%d %H:%M')"
   ]
  },
  {
   "cell_type": "code",
   "execution_count": 29,
   "id": "ed8109b4",
   "metadata": {},
   "outputs": [
    {
     "data": {
      "text/plain": [
       "0.4122855890396472"
      ]
     },
     "execution_count": 29,
     "metadata": {},
     "output_type": "execute_result"
    }
   ],
   "source": [
    "demand_cf.mean()"
   ]
  },
  {
   "cell_type": "code",
   "execution_count": 30,
   "id": "a65e8a25",
   "metadata": {},
   "outputs": [
    {
     "data": {
      "text/plain": [
       "<Axes: >"
      ]
     },
     "execution_count": 30,
     "metadata": {},
     "output_type": "execute_result"
    },
    {
     "data": {
      "image/png": "[encoded data removed]",
      "text/plain": [
       "<Figure size 640x480 with 1 Axes>"
      ]
     },
     "metadata": {},
     "output_type": "display_data"
    }
   ],
   "source": [
    "demand_cf.plot()"
   ]
  },
  {
   "cell_type": "code",
   "execution_count": null,
   "id": "73465fff",
   "metadata": {},
   "outputs": [],
   "source": []
  }
 ],
 "metadata": {
  "kernelspec": {
   "display_name": "Python 3 (ipykernel)",
   "language": "python",
   "name": "python3"
  },
  "language_info": {
   "codemirror_mode": {
    "name": "ipython",
    "version": 3
   },
   "file_extension": ".py",
   "mimetype": "text/x-python",
   "name": "python",
   "nbconvert_exporter": "python",
   "pygments_lexer": "ipython3",
   "version": "3.9.16"
  }
 },
 "nbformat": 4,
 "nbformat_minor": 5
}
